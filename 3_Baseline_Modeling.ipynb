{
 "cells": [
  {
   "cell_type": "markdown",
   "metadata": {},
   "source": [
    "# Baseline Modeling"
   ]
  },
  {
   "cell_type": "markdown",
   "metadata": {},
   "source": [
    "## Import libraries and read in data"
   ]
  },
  {
   "cell_type": "code",
   "execution_count": 5,
   "metadata": {},
   "outputs": [],
   "source": [
    "import pandas as pd\n",
    "from sklearn.metrics import r2_score, root_mean_squared_error\n",
    "from sklearn.model_selection import train_test_split"
   ]
  },
  {
   "cell_type": "code",
   "execution_count": 2,
   "metadata": {},
   "outputs": [
    {
     "data": {
      "text/html": [
       "<div>\n",
       "<style scoped>\n",
       "    .dataframe tbody tr th:only-of-type {\n",
       "        vertical-align: middle;\n",
       "    }\n",
       "\n",
       "    .dataframe tbody tr th {\n",
       "        vertical-align: top;\n",
       "    }\n",
       "\n",
       "    .dataframe thead th {\n",
       "        text-align: right;\n",
       "    }\n",
       "</style>\n",
       "<table border=\"1\" class=\"dataframe\">\n",
       "  <thead>\n",
       "    <tr style=\"text-align: right;\">\n",
       "      <th></th>\n",
       "      <th>Ward_1_Cases</th>\n",
       "      <th>Ward_2_Cases</th>\n",
       "      <th>Ward_3_Cases</th>\n",
       "      <th>Ward_4_Cases</th>\n",
       "      <th>Ward_5_Cases</th>\n",
       "      <th>Ward_6_Cases</th>\n",
       "      <th>Ward_7_Cases</th>\n",
       "      <th>Ward_8_Cases</th>\n",
       "      <th>Avg_Temp</th>\n",
       "    </tr>\n",
       "    <tr>\n",
       "      <th>Date</th>\n",
       "      <th></th>\n",
       "      <th></th>\n",
       "      <th></th>\n",
       "      <th></th>\n",
       "      <th></th>\n",
       "      <th></th>\n",
       "      <th></th>\n",
       "      <th></th>\n",
       "      <th></th>\n",
       "    </tr>\n",
       "  </thead>\n",
       "  <tbody>\n",
       "    <tr>\n",
       "      <th>2020-04-01</th>\n",
       "      <td>10.0</td>\n",
       "      <td>13.0</td>\n",
       "      <td>3.0</td>\n",
       "      <td>11.0</td>\n",
       "      <td>7.0</td>\n",
       "      <td>11.0</td>\n",
       "      <td>6.0</td>\n",
       "      <td>7.0</td>\n",
       "      <td>47.6</td>\n",
       "    </tr>\n",
       "    <tr>\n",
       "      <th>2020-04-02</th>\n",
       "      <td>9.0</td>\n",
       "      <td>6.0</td>\n",
       "      <td>4.0</td>\n",
       "      <td>12.0</td>\n",
       "      <td>15.0</td>\n",
       "      <td>18.0</td>\n",
       "      <td>17.0</td>\n",
       "      <td>7.0</td>\n",
       "      <td>54.0</td>\n",
       "    </tr>\n",
       "    <tr>\n",
       "      <th>2020-04-03</th>\n",
       "      <td>16.0</td>\n",
       "      <td>13.0</td>\n",
       "      <td>2.0</td>\n",
       "      <td>27.0</td>\n",
       "      <td>24.0</td>\n",
       "      <td>24.0</td>\n",
       "      <td>21.0</td>\n",
       "      <td>18.0</td>\n",
       "      <td>56.8</td>\n",
       "    </tr>\n",
       "    <tr>\n",
       "      <th>2020-04-04</th>\n",
       "      <td>7.0</td>\n",
       "      <td>0.0</td>\n",
       "      <td>4.0</td>\n",
       "      <td>10.0</td>\n",
       "      <td>4.0</td>\n",
       "      <td>2.0</td>\n",
       "      <td>13.0</td>\n",
       "      <td>25.0</td>\n",
       "      <td>54.4</td>\n",
       "    </tr>\n",
       "    <tr>\n",
       "      <th>2020-04-05</th>\n",
       "      <td>12.0</td>\n",
       "      <td>15.0</td>\n",
       "      <td>6.0</td>\n",
       "      <td>23.0</td>\n",
       "      <td>10.0</td>\n",
       "      <td>31.0</td>\n",
       "      <td>21.0</td>\n",
       "      <td>7.0</td>\n",
       "      <td>57.1</td>\n",
       "    </tr>\n",
       "  </tbody>\n",
       "</table>\n",
       "</div>"
      ],
      "text/plain": [
       "            Ward_1_Cases  Ward_2_Cases  Ward_3_Cases  Ward_4_Cases  \\\n",
       "Date                                                                 \n",
       "2020-04-01          10.0          13.0           3.0          11.0   \n",
       "2020-04-02           9.0           6.0           4.0          12.0   \n",
       "2020-04-03          16.0          13.0           2.0          27.0   \n",
       "2020-04-04           7.0           0.0           4.0          10.0   \n",
       "2020-04-05          12.0          15.0           6.0          23.0   \n",
       "\n",
       "            Ward_5_Cases  Ward_6_Cases  Ward_7_Cases  Ward_8_Cases  Avg_Temp  \n",
       "Date                                                                          \n",
       "2020-04-01           7.0          11.0           6.0           7.0      47.6  \n",
       "2020-04-02          15.0          18.0          17.0           7.0      54.0  \n",
       "2020-04-03          24.0          24.0          21.0          18.0      56.8  \n",
       "2020-04-04           4.0           2.0          13.0          25.0      54.4  \n",
       "2020-04-05          10.0          31.0          21.0           7.0      57.1  "
      ]
     },
     "execution_count": 2,
     "metadata": {},
     "output_type": "execute_result"
    }
   ],
   "source": [
    "# Reading in saved dataframe from 1_EDA_DC_Covid.ipynb and 2_Feature_Engineering.ipynb\n",
    "model_df = pd.read_csv('./Data/model_df.csv')\n",
    "\n",
    "# Setting Date index\n",
    "model_df['Date'] = pd.to_datetime(model_df['Date'])\n",
    "model_df.set_index('Date', inplace=True)\n",
    "model_df.sort_index(inplace=True)\n",
    "model_df.head()"
   ]
  },
  {
   "cell_type": "markdown",
   "metadata": {},
   "source": [
    "## Create Baseline Time Series Model Using Persistence Algorithm"
   ]
  },
  {
   "cell_type": "code",
   "execution_count": 6,
   "metadata": {},
   "outputs": [],
   "source": [
    "def get_base_model_rmses(df):\n",
    "    \n",
    "    # Excluding Avg Temp since this is an exogenous variable\n",
    "    for col in df.columns[:-1]:\n",
    "        \n",
    "        # Creating lagged dataframe\n",
    "        lagged_df = pd.concat([df[col].shift(1), df[col]], axis=1)\n",
    "        lagged_df.columns = ['t-1', 't']\n",
    "        \n",
    "        # Creating train and test sets\n",
    "        # split into train and test sets\n",
    "        X = lagged_df['t-1']\n",
    "        y = lagged_df['t']\n",
    "        X_train, X_test, y_train, y_test = train_test_split(X, y, test_size=.15, shuffle=False)\n",
    "        \n",
    "        # Getting predictions via persistence algorithm, which holds that the 't' value\n",
    "        # should be assigned the 't-1' value, i.e., the value that came one lag earlier\n",
    "        predictions = []\n",
    "        for x in X_test:\n",
    "            predictions.append(x)\n",
    "        test_score = root_mean_squared_error(y_test, predictions)\n",
    "        print(f'The baseline RMSE for {col} is {test_score}')\n",
    "        print()"
   ]
  },
  {
   "cell_type": "code",
   "execution_count": 7,
   "metadata": {},
   "outputs": [
    {
     "name": "stdout",
     "output_type": "stream",
     "text": [
      "The baseline RMSE for Ward_1_Cases is 17.031388135386436\n",
      "\n",
      "The baseline RMSE for Ward_2_Cases is 19.3502407783939\n",
      "\n",
      "The baseline RMSE for Ward_3_Cases is 9.12414379544733\n",
      "\n",
      "The baseline RMSE for Ward_4_Cases is 23.858484292328228\n",
      "\n",
      "The baseline RMSE for Ward_5_Cases is 24.367918551765033\n",
      "\n",
      "The baseline RMSE for Ward_6_Cases is 22.084548279900876\n",
      "\n",
      "The baseline RMSE for Ward_7_Cases is 23.106964711571663\n",
      "\n",
      "The baseline RMSE for Ward_8_Cases is 20.775313147185926\n",
      "\n"
     ]
    }
   ],
   "source": [
    "get_base_model_rmses(model_df)"
   ]
  },
  {
   "cell_type": "code",
   "execution_count": null,
   "metadata": {},
   "outputs": [],
   "source": []
  }
 ],
 "metadata": {
  "kernelspec": {
   "display_name": "Python 3 (ipykernel)",
   "language": "python",
   "name": "python3"
  },
  "language_info": {
   "codemirror_mode": {
    "name": "ipython",
    "version": 3
   },
   "file_extension": ".py",
   "mimetype": "text/x-python",
   "name": "python",
   "nbconvert_exporter": "python",
   "pygments_lexer": "ipython3",
   "version": "3.13.4"
  }
 },
 "nbformat": 4,
 "nbformat_minor": 4
}
